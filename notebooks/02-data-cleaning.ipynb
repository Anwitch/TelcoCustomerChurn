{
 "cells": [
  {
   "cell_type": "markdown",
   "id": "d49ec842",
   "metadata": {},
   "source": [
    "# 🧹 02 - Data Cleaning: Telco Customer Churn\n",
    "\n",
    "Notebook ini bertujuan untuk membersihkan dataset, menangani missing values, dan mempersiapkan fitur agar siap untuk proses analisis lanjutan."
   ]
  },
  {
   "cell_type": "markdown",
   "id": "b1dbd35e",
   "metadata": {},
   "source": [
    "## 1. Import Library & Load Dataset\n",
    "\n",
    "Dataset yang digunakan berasal dari file yang telah dieksplorasi sebelumnya di tahap Data Understanding.\n"
   ]
  },
  {
   "cell_type": "code",
   "execution_count": 50,
   "id": "3a5db7e5",
   "metadata": {},
   "outputs": [],
   "source": [
    "import os\n",
    "import pandas as pd\n",
    "\n",
    "project_root = os.path.abspath(os.path.join(os.getcwd(), '..'))\n",
    "data_raw_path = os.path.join(project_root, 'data', 'raw')\n",
    "\n",
    "df = pd.read_csv('../data/raw/telco_raw.csv')"
   ]
  },
  {
   "cell_type": "markdown",
   "id": "57b84830",
   "metadata": {},
   "source": [
    "## 2 Drop Kolom Yang Tidak Dibutuhkan\n",
    "\n",
    "Kolom 'customerID' merupakan identifier unik dan tidak memiliki nilai prediktif, sehingga akan dihapus."
   ]
  },
  {
   "cell_type": "code",
   "execution_count": 51,
   "id": "f646f967",
   "metadata": {},
   "outputs": [],
   "source": [
    "df.drop(columns=['customerID'], inplace=True)"
   ]
  },
  {
   "cell_type": "markdown",
   "id": "c6f55f70",
   "metadata": {},
   "source": [
    "## 3 Menyesuaikan Value Pada Kolom TotalCharges\n",
    "\n",
    "Kolom `TotalCharges` awalnya terbaca sebagai object/string karena adanya karakter non-numerik atau missing value. Kita konversi ke tipe float agar bisa digunakan dalam analisis numerik."
   ]
  },
  {
   "cell_type": "code",
   "execution_count": 52,
   "id": "336d4bcf",
   "metadata": {},
   "outputs": [
    {
     "name": "stdout",
     "output_type": "stream",
     "text": [
      "Missing values setelah konversi TotalCharges: 11\n"
     ]
    }
   ],
   "source": [
    "df['TotalCharges'] = pd.to_numeric(df['TotalCharges'], errors='coerce')\n",
    "\n",
    "print(\"Missing values setelah konversi TotalCharges:\", df['TotalCharges'].isnull().sum())"
   ]
  },
  {
   "cell_type": "markdown",
   "id": "f719b529",
   "metadata": {},
   "source": [
    "Kolom `TotalCharges` mengandung nilai kosong setelah dikonversi ke float. Terjadinya missing value dikarenakan isi pada kolom `Tenure` = 0. Oleh karena itu kita akan menyesuaikan isi dari `TotalCharges` menjadi sama dengan isi dari kolom `MonthlyCharges`."
   ]
  },
  {
   "cell_type": "code",
   "execution_count": 53,
   "id": "595206a8",
   "metadata": {},
   "outputs": [
    {
     "name": "stdout",
     "output_type": "stream",
     "text": [
      "<class 'pandas.core.frame.DataFrame'>\n",
      "RangeIndex: 7043 entries, 0 to 7042\n",
      "Data columns (total 20 columns):\n",
      " #   Column            Non-Null Count  Dtype  \n",
      "---  ------            --------------  -----  \n",
      " 0   gender            7043 non-null   object \n",
      " 1   SeniorCitizen     7043 non-null   int64  \n",
      " 2   Partner           7043 non-null   object \n",
      " 3   Dependents        7043 non-null   object \n",
      " 4   tenure            7043 non-null   int64  \n",
      " 5   PhoneService      7043 non-null   object \n",
      " 6   MultipleLines     7043 non-null   object \n",
      " 7   InternetService   7043 non-null   object \n",
      " 8   OnlineSecurity    7043 non-null   object \n",
      " 9   OnlineBackup      7043 non-null   object \n",
      " 10  DeviceProtection  7043 non-null   object \n",
      " 11  TechSupport       7043 non-null   object \n",
      " 12  StreamingTV       7043 non-null   object \n",
      " 13  StreamingMovies   7043 non-null   object \n",
      " 14  Contract          7043 non-null   object \n",
      " 15  PaperlessBilling  7043 non-null   object \n",
      " 16  PaymentMethod     7043 non-null   object \n",
      " 17  MonthlyCharges    7043 non-null   float64\n",
      " 18  TotalCharges      7043 non-null   float64\n",
      " 19  Churn             7043 non-null   object \n",
      "dtypes: float64(2), int64(2), object(16)\n",
      "memory usage: 1.1+ MB\n"
     ]
    }
   ],
   "source": [
    "df['TotalCharges'] = pd.to_numeric(df['TotalCharges'], errors='coerce')\n",
    "\n",
    "df['TotalCharges'] = df['TotalCharges'].fillna(df['MonthlyCharges'])\n",
    "\n",
    "df.info()"
   ]
  },
  {
   "cell_type": "markdown",
   "id": "8123b63d",
   "metadata": {},
   "source": [
    "## 4 Konversi Tipe Data\n",
    "\n",
    "Kolom `SeniorCitizen` perlu diubah ke tipe kategorikal."
   ]
  },
  {
   "cell_type": "code",
   "execution_count": 54,
   "id": "99610458",
   "metadata": {},
   "outputs": [],
   "source": [
    "df['SeniorCitizen'] = df['SeniorCitizen'].astype('object')"
   ]
  },
  {
   "cell_type": "markdown",
   "id": "650a4446",
   "metadata": {},
   "source": [
    "## 5. Cek Kategori & Normalisasi Nilai\n",
    "\n",
    "Beberapa nilai kategori bisa punya typo atau format inkonsisten. Kita pastikan semua kategori sudah rapi."
   ]
  },
  {
   "cell_type": "code",
   "execution_count": 55,
   "id": "2e58b942",
   "metadata": {},
   "outputs": [
    {
     "name": "stdout",
     "output_type": "stream",
     "text": [
      "gender: ['Female' 'Male']\n",
      "SeniorCitizen: [0 1]\n",
      "Partner: ['Yes' 'No']\n",
      "Dependents: ['No' 'Yes']\n",
      "PhoneService: ['No' 'Yes']\n",
      "MultipleLines: ['No phone service' 'No' 'Yes']\n",
      "InternetService: ['DSL' 'Fiber optic' 'No']\n",
      "OnlineSecurity: ['No' 'Yes' 'No internet service']\n",
      "OnlineBackup: ['Yes' 'No' 'No internet service']\n",
      "DeviceProtection: ['No' 'Yes' 'No internet service']\n",
      "TechSupport: ['No' 'Yes' 'No internet service']\n",
      "StreamingTV: ['No' 'Yes' 'No internet service']\n",
      "StreamingMovies: ['No' 'Yes' 'No internet service']\n",
      "Contract: ['Month-to-month' 'One year' 'Two year']\n",
      "PaperlessBilling: ['Yes' 'No']\n",
      "PaymentMethod: ['Electronic check' 'Mailed check' 'Bank transfer (automatic)'\n",
      " 'Credit card (automatic)']\n",
      "Churn: ['No' 'Yes']\n"
     ]
    }
   ],
   "source": [
    "for col in df.select_dtypes(include='object').columns:\n",
    "    print(f\"{col}: {df[col].unique()}\")"
   ]
  },
  {
   "cell_type": "markdown",
   "id": "f11b7c4c",
   "metadata": {},
   "source": [
    "Menghilangkan redundansi data (seperti `No phone service` dan `No internet service` ) pada kolom `MultipleLines`, `OnlineSecurity`, `OnlineBackup`, `DeviceProtection`, `TechSupport`, `StreamingTV`, dan `StreamingMovies`."
   ]
  },
  {
   "cell_type": "code",
   "execution_count": 56,
   "id": "66c98256",
   "metadata": {},
   "outputs": [],
   "source": [
    "df.replace('No phone service', 'No', inplace=True)\n",
    "df.replace('No internet service', 'No', inplace=True)"
   ]
  },
  {
   "cell_type": "code",
   "execution_count": 57,
   "id": "61ff45be",
   "metadata": {},
   "outputs": [
    {
     "data": {
      "text/plain": [
       "gender              0\n",
       "SeniorCitizen       0\n",
       "Partner             0\n",
       "Dependents          0\n",
       "tenure              0\n",
       "PhoneService        0\n",
       "MultipleLines       0\n",
       "InternetService     0\n",
       "OnlineSecurity      0\n",
       "OnlineBackup        0\n",
       "DeviceProtection    0\n",
       "TechSupport         0\n",
       "StreamingTV         0\n",
       "StreamingMovies     0\n",
       "Contract            0\n",
       "PaperlessBilling    0\n",
       "PaymentMethod       0\n",
       "MonthlyCharges      0\n",
       "TotalCharges        0\n",
       "Churn               0\n",
       "dtype: int64"
      ]
     },
     "execution_count": 57,
     "metadata": {},
     "output_type": "execute_result"
    }
   ],
   "source": [
    "df.isnull().sum()"
   ]
  },
  {
   "cell_type": "markdown",
   "id": "ce2412e5",
   "metadata": {},
   "source": [
    "## 6. Simpan Dataset yang Sudah Dibersihkan\n",
    "\n",
    "Dataset hasil cleaning disimpan ke dalam folder `data/cleaned/` untuk digunakan di tahap analisis selanjutnya."
   ]
  },
  {
   "cell_type": "code",
   "execution_count": 58,
   "id": "cc7a5170",
   "metadata": {},
   "outputs": [],
   "source": [
    "df.to_csv(\"../data/processed/telco_cleaned.csv\", index=False)\n"
   ]
  },
  {
   "cell_type": "markdown",
   "id": "5753dbde",
   "metadata": {},
   "source": [
    "## 📝 7. Ringkasan Cleaning\n",
    "\n",
    "- Kolom `customerID` dihapus\n",
    "- Missing value pada `TotalCharges` ditangani\n",
    "- `SeniorCitizen` dikonversi ke kategorikal\n",
    "- Normalisasi nilai kategori seperti `'No internet service'` → `'No'`"
   ]
  }
 ],
 "metadata": {
  "kernelspec": {
   "display_name": "base",
   "language": "python",
   "name": "python3"
  },
  "language_info": {
   "codemirror_mode": {
    "name": "ipython",
    "version": 3
   },
   "file_extension": ".py",
   "mimetype": "text/x-python",
   "name": "python",
   "nbconvert_exporter": "python",
   "pygments_lexer": "ipython3",
   "version": "3.12.7"
  }
 },
 "nbformat": 4,
 "nbformat_minor": 5
}
